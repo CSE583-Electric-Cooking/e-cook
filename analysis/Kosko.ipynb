{
 "cells": [
  {
   "cell_type": "code",
   "execution_count": 1,
   "id": "b0c2e4e2",
   "metadata": {},
   "outputs": [],
   "source": [
    "import pandas as pd\n",
    "import numpy as np\n",
    "import matplotlib.pyplot as plt\n",
    "import os\n",
    "os.chdir(\"data\")\n",
    "os.chdir(\"kosko\")\n",
    "files = os.listdir()\n",
    "data = []\n",
    "for file in files:\n",
    "    if \"EM\" in file:\n",
    "        data.append(file)\n",
    "data.sort()"
   ]
  },
  {
   "cell_type": "code",
   "execution_count": null,
   "id": "d904ab74",
   "metadata": {},
   "outputs": [],
   "source": [
    "\n"
   ]
  },
  {
   "cell_type": "code",
   "execution_count": 3,
   "id": "61f9c733",
   "metadata": {},
   "outputs": [],
   "source": [
    "class EM:\n",
    "    \n",
    "    def __init__(self, list:data, EM_id):\n",
    "        ## data: List of strings corresponding to CSV files accessable by this object\n",
    "        ## user_id: Integer corresponding to ID in CSV file.\n",
    "        for elem in data:\n",
    "            if str(EM_id) in elem:\n",
    "                df = pd.read_csv(elem)\n",
    "        self.data_set = df\n",
    "            \n",
    "        \n",
    "            \n",
    "    def visualize(self,column):\n",
    "        plt.plot(self.data_set[column])\n",
    "        plt.show()\n",
    "\n",
    "\n",
    "EM_ids = [int(elem.split(\"_\")[1]) for elem in data]\n",
    "\n",
    "        \n",
    "numerical_data = []\n",
    "output_data = []\n",
    "columns_x = None\n",
    "columns_y = None\n",
    "for em_id in EM_ids:\n",
    "    E = EM(data, em_id)\n",
    "    if type(columns_x) == type(None):\n",
    "        columns_x = E.data_set.columns[1:-1]\n",
    "        columns_y = E.data_set.columns[-1]\n",
    "    numerical_data.append(E.data_set[columns_x].values)\n",
    "    output_data.append(E.data_set[columns_y].values)\n",
    "\n",
    "X = np.vstack(numerical_data)\n",
    "y = np.hstack(output_data).T\n",
    "def encode(a):\n",
    "    if a == \"OFF\":\n",
    "        return 0\n",
    "    else:\n",
    "        return 1\n",
    "y = np.array([encode(Y) for Y in y])\n",
    "\n"
   ]
  },
  {
   "cell_type": "code",
   "execution_count": 8,
   "id": "1e8d0c2f",
   "metadata": {},
   "outputs": [
    {
     "name": "stderr",
     "output_type": "stream",
     "text": [
      "2023-11-07 12:02:40.423745: I tensorflow/core/util/port.cc:111] oneDNN custom operations are on. You may see slightly different numerical results due to floating-point round-off errors from different computation orders. To turn them off, set the environment variable `TF_ENABLE_ONEDNN_OPTS=0`.\n",
      "2023-11-07 12:02:40.426509: I tensorflow/tsl/cuda/cudart_stub.cc:28] Could not find cuda drivers on your machine, GPU will not be used.\n",
      "2023-11-07 12:02:40.461342: E tensorflow/compiler/xla/stream_executor/cuda/cuda_dnn.cc:9342] Unable to register cuDNN factory: Attempting to register factory for plugin cuDNN when one has already been registered\n",
      "2023-11-07 12:02:40.461386: E tensorflow/compiler/xla/stream_executor/cuda/cuda_fft.cc:609] Unable to register cuFFT factory: Attempting to register factory for plugin cuFFT when one has already been registered\n",
      "2023-11-07 12:02:40.461438: E tensorflow/compiler/xla/stream_executor/cuda/cuda_blas.cc:1518] Unable to register cuBLAS factory: Attempting to register factory for plugin cuBLAS when one has already been registered\n",
      "2023-11-07 12:02:40.469287: I tensorflow/tsl/cuda/cudart_stub.cc:28] Could not find cuda drivers on your machine, GPU will not be used.\n",
      "2023-11-07 12:02:40.470647: I tensorflow/core/platform/cpu_feature_guard.cc:182] This TensorFlow binary is optimized to use available CPU instructions in performance-critical operations.\n",
      "To enable the following instructions: AVX2 AVX512F AVX512_VNNI FMA, in other operations, rebuild TensorFlow with the appropriate compiler flags.\n",
      "2023-11-07 12:02:41.420812: W tensorflow/compiler/tf2tensorrt/utils/py_utils.cc:38] TF-TRT Warning: Could not find TensorRT\n"
     ]
    },
    {
     "name": "stdout",
     "output_type": "stream",
     "text": [
      "Epoch 1/5\n",
      "1360/1360 [==============================] - 5s 3ms/step - loss: 0.5109 - accuracy: 0.9397 - val_loss: 0.1120 - val_accuracy: 0.9628\n",
      "Epoch 2/5\n",
      "1360/1360 [==============================] - 4s 3ms/step - loss: 0.1113 - accuracy: 0.9625 - val_loss: 0.1107 - val_accuracy: 0.9675\n",
      "Epoch 3/5\n",
      "1360/1360 [==============================] - 4s 3ms/step - loss: 0.1089 - accuracy: 0.9627 - val_loss: 0.1264 - val_accuracy: 0.9405\n",
      "Epoch 4/5\n",
      "1360/1360 [==============================] - 4s 3ms/step - loss: 0.1097 - accuracy: 0.9626 - val_loss: 0.0966 - val_accuracy: 0.9686\n",
      "Epoch 5/5\n",
      "1360/1360 [==============================] - 4s 3ms/step - loss: 0.1056 - accuracy: 0.9637 - val_loss: 0.0984 - val_accuracy: 0.9675\n",
      "425/425 [==============================] - 1s 2ms/step - loss: 0.0867 - accuracy: 0.9721\n",
      "Test loss: 0.0867, Test accuracy: 0.9721\n"
     ]
    }
   ],
   "source": [
    "import numpy as np\n",
    "import tensorflow as tf\n",
    "from tensorflow.keras.models import Sequential\n",
    "from tensorflow.keras.layers import Dense\n",
    "from sklearn.model_selection import train_test_split\n",
    "\n",
    "# Generate some random data for demonstration (replace this with your actual data)\n",
    "# Here, X is the feature matrix of shape (67980, 4), and y is the binary target labels.\n",
    "\n",
    "\n",
    "# Split the data into training and testing sets\n",
    "X_train, X_test, y_train, y_test = train_test_split(X, y, test_size=0.2, random_state=42)\n",
    "\n",
    "# Create a Sequential model\n",
    "model = Sequential()\n",
    "\n",
    "# Add an input layer with 4 input features\n",
    "model.add(Dense(units=16, activation='relu', input_shape=(4,)))\n",
    "model.add(Dense(units=16, activation='relu'))\n",
    "\n",
    "# Add an output layer with one neuron and sigmoid activation for binary classification\n",
    "model.add(Dense(units=1, activation='sigmoid'))\n",
    "\n",
    "# Compile the model\n",
    "model.compile(optimizer='adam', loss='binary_crossentropy', metrics=['accuracy'])\n",
    "\n",
    "# Train the model on the training data\n",
    "model.fit(X_train, y_train, epochs=5, batch_size=32, validation_split=0.2)\n",
    "\n",
    "# Evaluate the model on the testing data\n",
    "loss, accuracy = model.evaluate(X_test, y_test)\n",
    "print(f\"Test loss: {loss:.4f}, Test accuracy: {accuracy:.4f}\")\n",
    "### maybe boost"
   ]
  },
  {
   "cell_type": "code",
   "execution_count": 5,
   "id": "711aff9f",
   "metadata": {},
   "outputs": [
    {
     "data": {
      "text/plain": [
       "array([[1.61530e+02, 2.50000e-02, 5.33000e-01, 6.66000e+00],\n",
       "       [1.29036e+02, 3.50900e+00, 4.52557e+02, 6.66000e+00],\n",
       "       [1.23405e+02, 3.35300e+00, 4.13680e+02, 6.67900e+00],\n",
       "       ...,\n",
       "       [2.41473e+02, 2.50000e-02, 1.38000e-01, 4.25740e+01],\n",
       "       [2.33331e+02, 2.50000e-02, 8.30000e-02, 4.25740e+01],\n",
       "       [2.09860e+02, 2.50000e-02, 4.70000e-02, 4.25740e+01]])"
      ]
     },
     "execution_count": 5,
     "metadata": {},
     "output_type": "execute_result"
    }
   ],
   "source": [
    "X"
   ]
  },
  {
   "cell_type": "code",
   "execution_count": 7,
   "id": "bbef75d0",
   "metadata": {},
   "outputs": [
    {
     "name": "stdout",
     "output_type": "stream",
     "text": [
      "Test accuracy: 0.9178\n"
     ]
    }
   ],
   "source": [
    "from sklearn.linear_model import LogisticRegression\n",
    "from sklearn.model_selection import train_test_split\n",
    "\n",
    "# Assuming X and y are already defined and contain the dataset features and labels\n",
    "\n",
    "# Split the data into training and testing sets\n",
    "X_train, X_test, y_train, y_test = train_test_split(X, y, test_size=0.2, random_state=42)\n",
    "\n",
    "# Create a logistic regression model\n",
    "logistic_model = LogisticRegression()\n",
    "\n",
    "# Fit the model on the training data\n",
    "logistic_model.fit(X_train, y_train)\n",
    "\n",
    "# Evaluate the model on the testing data\n",
    "accuracy = logistic_model.score(X_test, y_test)\n",
    "print(f\"Test accuracy: {accuracy:.4f}\")\n"
   ]
  },
  {
   "cell_type": "code",
   "execution_count": null,
   "id": "65155426",
   "metadata": {},
   "outputs": [],
   "source": []
  },
  {
   "cell_type": "code",
   "execution_count": null,
   "id": "67484af9",
   "metadata": {},
   "outputs": [],
   "source": []
  },
  {
   "cell_type": "code",
   "execution_count": null,
   "id": "1a36b700",
   "metadata": {},
   "outputs": [],
   "source": []
  }
 ],
 "metadata": {
  "kernelspec": {
   "display_name": "Python 3 (ipykernel)",
   "language": "python",
   "name": "python3"
  },
  "language_info": {
   "codemirror_mode": {
    "name": "ipython",
    "version": 3
   },
   "file_extension": ".py",
   "mimetype": "text/x-python",
   "name": "python",
   "nbconvert_exporter": "python",
   "pygments_lexer": "ipython3",
   "version": "3.11.4"
  }
 },
 "nbformat": 4,
 "nbformat_minor": 5
}
